{
 "cells": [
  {
   "cell_type": "markdown",
   "metadata": {},
   "source": [
    "# Wine Quality Analysis \n",
    "\n",
    "Analysis of portuguese white and red wine samples based on chemical characteristics and quality rating."
   ]
  },
  {
   "cell_type": "code",
   "execution_count": null,
   "metadata": {},
   "outputs": [],
   "source": [
    "import pandas as pd\n",
    "import numpy as np\n",
    "import matplotlib.pyplot as plt\n",
    "import seaborn as sns\n",
    "% matplotlib inline\n",
    "\n",
    "# Read csv\n",
    "df_red = pd.read_csv('winequality-red.csv', sep=';')\n",
    "df_white = pd.read_csv('winequality-white.csv', sep=';')"
   ]
  },
  {
   "cell_type": "code",
   "execution_count": null,
   "metadata": {},
   "outputs": [],
   "source": [
    "# Explore data\n",
    "df_red.info()\n",
    "df_white.info()\n",
    "\n",
    "df_red.head()"
   ]
  },
  {
   "cell_type": "markdown",
   "metadata": {},
   "source": [
    "# Assessing data \n",
    "Check for missing, duplicate values and gain general sense of data values"
   ]
  },
  {
   "cell_type": "code",
   "execution_count": null,
   "metadata": {},
   "outputs": [],
   "source": [
    "# Samples in each dataset\n",
    "print(df_red.shape)\n",
    "print(df_white.shape)"
   ]
  },
  {
   "cell_type": "code",
   "execution_count": null,
   "metadata": {},
   "outputs": [],
   "source": [
    "# Missing values\n",
    "print('Columns with missing values in red wine data: ')\n",
    "red_missing = df_red.columns[df_red.isnull().any()]\n",
    "print(red_missing)\n",
    "\n",
    "print('Columns with missing values in white wine data: ')\n",
    "white_missing = df_white.columns[df_white.isnull().any()]\n",
    "print(white_missing)"
   ]
  },
  {
   "cell_type": "code",
   "execution_count": null,
   "metadata": {},
   "outputs": [],
   "source": [
    "# Duplicate rows\n",
    "duplicate_red = df_red[df_red.duplicated(keep=False)]\n",
    "duplicate_white = df_white[df_white.duplicated(keep=False)]\n",
    "\n",
    "# Uncomment to explore duplicate rows\n",
    "#print(duplicate_red)\n",
    "#print(duplicate_white)\n",
    "\n",
    "# Drop duplicates\n",
    "df_red.drop_duplicates()\n",
    "df_white.drop_duplicates()\n",
    "\n",
    "df_white.duplicated().sum()"
   ]
  },
  {
   "cell_type": "code",
   "execution_count": null,
   "metadata": {},
   "outputs": [],
   "source": [
    "# Unique values for columns\n",
    "df_red['quality'].nunique()\n",
    "df_white['quality'].nunique()"
   ]
  },
  {
   "cell_type": "markdown",
   "metadata": {},
   "source": [
    "# Combine red and white datasets\n",
    "Create color columns for each dataset and combine into one "
   ]
  },
  {
   "cell_type": "code",
   "execution_count": null,
   "metadata": {},
   "outputs": [],
   "source": [
    "# Create color column\n",
    "color_red = np.repeat('red', df_red.shape[0]) \n",
    "color_white = np.repeat('white', df_white.shape[0])\n",
    "\n",
    "# Append columns to each dataset\n",
    "df_red['color'] = color_red\n",
    "df_white['color'] = color_white\n",
    "\n",
    "# Combine df\n",
    "df_wine = df_white.append(df_red)\n",
    "#df_wine.info()\n",
    "#df_wine.head()"
   ]
  },
  {
   "cell_type": "markdown",
   "metadata": {},
   "source": [
    "# Create visuals to explore data"
   ]
  },
  {
   "cell_type": "code",
   "execution_count": null,
   "metadata": {},
   "outputs": [],
   "source": [
    "# Create edited csv\n",
    "df_wine.to_csv('wine_data_edited.csv')"
   ]
  },
  {
   "cell_type": "code",
   "execution_count": null,
   "metadata": {},
   "outputs": [],
   "source": [
    "# Histograms of various features\n",
    "#df_wine.hist(figsize=(8,8));\n",
    "\n",
    "# Scatter plots of features against quality\n",
    "plt.scatter(x=df_wine['alcohol'], y=df_wine['quality'])\n",
    "plt.show()"
   ]
  },
  {
   "cell_type": "markdown",
   "metadata": {},
   "source": [
    "# Explore data using group by\n",
    "Average stars for different type of wines and pH levels"
   ]
  },
  {
   "cell_type": "code",
   "execution_count": null,
   "metadata": {},
   "outputs": [],
   "source": [
    "# Mean quality of each wine type\n",
    "df_wine.groupby(by='color').mean()"
   ]
  },
  {
   "cell_type": "code",
   "execution_count": null,
   "metadata": {},
   "outputs": [],
   "source": [
    "# Extract min, percentiles, max for pH as bin edges\n",
    "bin_edges = df_wine['pH'].describe()[3:8]\n",
    "bin_names = ['High', 'Moderately High', 'Medium','Low']"
   ]
  },
  {
   "cell_type": "code",
   "execution_count": null,
   "metadata": {},
   "outputs": [],
   "source": [
    "# Creates acidity_levels column\n",
    "df_wine['acidity_levels'] = pd.cut(df_wine['pH'], bin_edges, labels=bin_names)\n",
    "\n",
    "# Checks for successful creation of this column\n",
    "df_wine.head()"
   ]
  },
  {
   "cell_type": "code",
   "execution_count": null,
   "metadata": {},
   "outputs": [],
   "source": [
    "# Check mean ratings for different pH levels\n",
    "ph_mean_ratings = df_wine.groupby(by='acidity_levels')['quality'].mean()"
   ]
  },
  {
   "cell_type": "markdown",
   "metadata": {},
   "source": [
    "# Do wines with higher alcohol content have better ratings? "
   ]
  },
  {
   "cell_type": "code",
   "execution_count": null,
   "metadata": {},
   "outputs": [],
   "source": [
    "# Create groups based on alcohol levels\n",
    "df_low_alc= df_wine.query(\"alcohol <= alcohol.median()\")\n",
    "df_high_alc = df_wine.query(\"alcohol > alcohol.median()\")"
   ]
  },
  {
   "cell_type": "code",
   "execution_count": null,
   "metadata": {},
   "outputs": [],
   "source": [
    "# Check whether ratings is affected by alcohol levels\n",
    "low_alc_quality = df_low_alc['quality'].mean()\n",
    "high_alc_quality = df_high_alc['quality'].mean()"
   ]
  },
  {
   "cell_type": "markdown",
   "metadata": {},
   "source": [
    "Wine with higher alcohol content has higher quality ratings. "
   ]
  },
  {
   "cell_type": "markdown",
   "metadata": {},
   "source": [
    "# Do sweeter wines get better ratings? "
   ]
  },
  {
   "cell_type": "code",
   "execution_count": null,
   "metadata": {},
   "outputs": [],
   "source": [
    "# rename column name\n",
    "df_wine.rename(columns={'residual sugar': 'sugar'}, inplace=True)\n",
    "\n",
    "# Create groups based on residual sugar levels\n",
    "df_low_sugar = df_wine.query('sugar <= sugar.median()')\n",
    "df_high_sugar = df_wine.query('sugar > sugar.median()')"
   ]
  },
  {
   "cell_type": "code",
   "execution_count": null,
   "metadata": {},
   "outputs": [],
   "source": [
    "# Check whether ratings is affected by sugar levels\n",
    "low_sugar_rating = df_low_sugar['quality'].mean()\n",
    "high_sugar_rating = df_high_sugar['quality'].mean()"
   ]
  },
  {
   "cell_type": "markdown",
   "metadata": {},
   "source": [
    "# Data Visualization\n",
    "## 1: Do wines with higher alcoholic content receive better ratings?"
   ]
  },
  {
   "cell_type": "code",
   "execution_count": null,
   "metadata": {},
   "outputs": [],
   "source": [
    "# Create a bar chart\n",
    "locations = [1,2]\n",
    "heights = [low_alc_quality, high_alc_quality]\n",
    "labels = ['low', 'high']\n",
    "plt.bar(locations, heights, tick_label=labels)\n",
    "plt.title('Average Quality Rating by Alcohol Content')\n",
    "plt.xlabel('Alcohol Content')\n",
    "plt.ylabel('Average Quality Rating')"
   ]
  },
  {
   "cell_type": "markdown",
   "metadata": {},
   "source": [
    "## 2: Do sweeter wines receive higher ratings? "
   ]
  },
  {
   "cell_type": "code",
   "execution_count": null,
   "metadata": {},
   "outputs": [],
   "source": [
    "# Create a bar chart\n",
    "locations = [1,2]\n",
    "heights = [low_sugar_rating, high_sugar_rating]\n",
    "labels = ['low', 'high']\n",
    "plt.bar(locations, heights, tick_label=labels)\n",
    "plt.title('Average Quality Rating by Sugar Content')\n",
    "plt.xlabel('Sugar Content')\n",
    "plt.ylabel('Average Quality Rating')"
   ]
  },
  {
   "cell_type": "markdown",
   "metadata": {},
   "source": [
    "## 3: What level of acidity receives the highest average rating? "
   ]
  },
  {
   "cell_type": "code",
   "execution_count": null,
   "metadata": {},
   "outputs": [],
   "source": [
    "locations = [1,2,3,4]\n",
    "heights = ph_mean_ratings\n",
    "labels = bin_names\n",
    "plt.bar(locations, heights, tick_label=labels)\n",
    "plt.title('Average Quality Rating by pH Levels')\n",
    "plt.xlabel('pH Levels')\n",
    "plt.ylabel('Average Quality Rating')"
   ]
  },
  {
   "cell_type": "code",
   "execution_count": null,
   "metadata": {},
   "outputs": [],
   "source": [
    "#plt.scatter(df_wine['pH'], df_wine['quality'])\n",
    "plt.plot(df_wine['pH'], df_wine['quality'])"
   ]
  },
  {
   "cell_type": "code",
   "execution_count": null,
   "metadata": {},
   "outputs": [],
   "source": []
  }
 ],
 "metadata": {
  "kernelspec": {
   "display_name": "Python [conda root]",
   "language": "python",
   "name": "conda-root-py"
  },
  "language_info": {
   "codemirror_mode": {
    "name": "ipython",
    "version": 3
   },
   "file_extension": ".py",
   "mimetype": "text/x-python",
   "name": "python",
   "nbconvert_exporter": "python",
   "pygments_lexer": "ipython3",
   "version": "3.6.4"
  }
 },
 "nbformat": 4,
 "nbformat_minor": 2
}
